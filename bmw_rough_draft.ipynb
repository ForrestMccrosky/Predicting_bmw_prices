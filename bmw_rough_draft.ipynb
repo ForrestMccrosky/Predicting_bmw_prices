{
 "cells": [
  {
   "cell_type": "markdown",
   "metadata": {},
   "source": [
    "#### Imports"
   ]
  },
  {
   "cell_type": "code",
   "execution_count": 1,
   "metadata": {},
   "outputs": [],
   "source": [
    "## import statements for the regression pipeline\n",
    "\n",
    "import pandas as pd\n",
    "import numpy as np\n",
    "import matplotlib.pyplot as plt\n",
    "\n",
    "import seaborn as sns\n",
    "\n",
    "\n",
    "# feature selection imports\n",
    "from sklearn.feature_selection import SelectKBest, f_regression\n",
    "from sklearn.feature_selection import RFE\n",
    "\n",
    "# import scaling methods\n",
    "from sklearn.preprocessing import RobustScaler, StandardScaler\n",
    "from scipy import stats\n",
    "from sklearn.model_selection import train_test_split\n",
    "\n",
    "# import modeling methods\n",
    "from sklearn.cluster import KMeans\n",
    "from sklearn.metrics import mean_squared_error, r2_score \n",
    "from sklearn.linear_model import LinearRegression, LassoLars, TweedieRegressor\n",
    "from sklearn.preprocessing import PolynomialFeatures\n",
    "from sklearn.metrics import explained_variance_score\n",
    "from scipy import stats\n",
    "\n",
    "# import to remove warnings\n",
    "import warnings\n",
    "warnings.filterwarnings(\"ignore\")"
   ]
  },
  {
   "cell_type": "markdown",
   "metadata": {},
   "source": [
    "### Acquire \n",
    "\n",
    "Acquire the dataset from kaggle.com where each reservation represents a used bmw\n",
    "\n",
    "link to dataset: https://www.kaggle.com/mysarahmadbhat/bmw-used-car-listing?select=bmw.csv"
   ]
  },
  {
   "cell_type": "code",
   "execution_count": 2,
   "metadata": {},
   "outputs": [
    {
     "data": {
      "text/html": [
       "<div>\n",
       "<style scoped>\n",
       "    .dataframe tbody tr th:only-of-type {\n",
       "        vertical-align: middle;\n",
       "    }\n",
       "\n",
       "    .dataframe tbody tr th {\n",
       "        vertical-align: top;\n",
       "    }\n",
       "\n",
       "    .dataframe thead th {\n",
       "        text-align: right;\n",
       "    }\n",
       "</style>\n",
       "<table border=\"1\" class=\"dataframe\">\n",
       "  <thead>\n",
       "    <tr style=\"text-align: right;\">\n",
       "      <th></th>\n",
       "      <th>year</th>\n",
       "      <th>price</th>\n",
       "      <th>transmission</th>\n",
       "      <th>mileage</th>\n",
       "      <th>fuelType</th>\n",
       "      <th>tax</th>\n",
       "      <th>mpg</th>\n",
       "      <th>engineSize</th>\n",
       "    </tr>\n",
       "    <tr>\n",
       "      <th>model</th>\n",
       "      <th></th>\n",
       "      <th></th>\n",
       "      <th></th>\n",
       "      <th></th>\n",
       "      <th></th>\n",
       "      <th></th>\n",
       "      <th></th>\n",
       "      <th></th>\n",
       "    </tr>\n",
       "  </thead>\n",
       "  <tbody>\n",
       "    <tr>\n",
       "      <th>5 Series</th>\n",
       "      <td>2014</td>\n",
       "      <td>11200</td>\n",
       "      <td>Automatic</td>\n",
       "      <td>67068</td>\n",
       "      <td>Diesel</td>\n",
       "      <td>125</td>\n",
       "      <td>57.6</td>\n",
       "      <td>2.0</td>\n",
       "    </tr>\n",
       "    <tr>\n",
       "      <th>6 Series</th>\n",
       "      <td>2018</td>\n",
       "      <td>27000</td>\n",
       "      <td>Automatic</td>\n",
       "      <td>14827</td>\n",
       "      <td>Petrol</td>\n",
       "      <td>145</td>\n",
       "      <td>42.8</td>\n",
       "      <td>2.0</td>\n",
       "    </tr>\n",
       "    <tr>\n",
       "      <th>5 Series</th>\n",
       "      <td>2016</td>\n",
       "      <td>16000</td>\n",
       "      <td>Automatic</td>\n",
       "      <td>62794</td>\n",
       "      <td>Diesel</td>\n",
       "      <td>160</td>\n",
       "      <td>51.4</td>\n",
       "      <td>3.0</td>\n",
       "    </tr>\n",
       "    <tr>\n",
       "      <th>1 Series</th>\n",
       "      <td>2017</td>\n",
       "      <td>12750</td>\n",
       "      <td>Automatic</td>\n",
       "      <td>26676</td>\n",
       "      <td>Diesel</td>\n",
       "      <td>145</td>\n",
       "      <td>72.4</td>\n",
       "      <td>1.5</td>\n",
       "    </tr>\n",
       "    <tr>\n",
       "      <th>7 Series</th>\n",
       "      <td>2014</td>\n",
       "      <td>14500</td>\n",
       "      <td>Automatic</td>\n",
       "      <td>39554</td>\n",
       "      <td>Diesel</td>\n",
       "      <td>160</td>\n",
       "      <td>50.4</td>\n",
       "      <td>3.0</td>\n",
       "    </tr>\n",
       "  </tbody>\n",
       "</table>\n",
       "</div>"
      ],
      "text/plain": [
       "           year  price transmission  mileage fuelType  tax   mpg  engineSize\n",
       "model                                                                       \n",
       " 5 Series  2014  11200    Automatic    67068   Diesel  125  57.6         2.0\n",
       " 6 Series  2018  27000    Automatic    14827   Petrol  145  42.8         2.0\n",
       " 5 Series  2016  16000    Automatic    62794   Diesel  160  51.4         3.0\n",
       " 1 Series  2017  12750    Automatic    26676   Diesel  145  72.4         1.5\n",
       " 7 Series  2014  14500    Automatic    39554   Diesel  160  50.4         3.0"
      ]
     },
     "execution_count": 2,
     "metadata": {},
     "output_type": "execute_result"
    }
   ],
   "source": [
    "## acquire our data from our local csv\n",
    "\n",
    "df = pd.read_csv('bmw.csv', index_col=0) ## reading our csv into a pandas dataframe\n",
    "\n",
    "df.head() ## previewing our data"
   ]
  },
  {
   "cell_type": "code",
   "execution_count": 3,
   "metadata": {},
   "outputs": [
    {
     "data": {
      "text/plain": [
       "(10781, 8)"
      ]
     },
     "execution_count": 3,
     "metadata": {},
     "output_type": "execute_result"
    }
   ],
   "source": [
    "## looking at our data shape \n",
    "df.shape"
   ]
  },
  {
   "cell_type": "markdown",
   "metadata": {},
   "source": [
    "Looks like we have a good amount of observations let's look at some numerical statistics"
   ]
  },
  {
   "cell_type": "code",
   "execution_count": 4,
   "metadata": {},
   "outputs": [
    {
     "data": {
      "text/html": [
       "<div>\n",
       "<style scoped>\n",
       "    .dataframe tbody tr th:only-of-type {\n",
       "        vertical-align: middle;\n",
       "    }\n",
       "\n",
       "    .dataframe tbody tr th {\n",
       "        vertical-align: top;\n",
       "    }\n",
       "\n",
       "    .dataframe thead th {\n",
       "        text-align: right;\n",
       "    }\n",
       "</style>\n",
       "<table border=\"1\" class=\"dataframe\">\n",
       "  <thead>\n",
       "    <tr style=\"text-align: right;\">\n",
       "      <th></th>\n",
       "      <th>count</th>\n",
       "      <th>mean</th>\n",
       "      <th>std</th>\n",
       "      <th>min</th>\n",
       "      <th>25%</th>\n",
       "      <th>50%</th>\n",
       "      <th>75%</th>\n",
       "      <th>max</th>\n",
       "      <th>range</th>\n",
       "    </tr>\n",
       "  </thead>\n",
       "  <tbody>\n",
       "    <tr>\n",
       "      <th>year</th>\n",
       "      <td>10781.0</td>\n",
       "      <td>2017.078935</td>\n",
       "      <td>2.349038</td>\n",
       "      <td>1996.0</td>\n",
       "      <td>2016.0</td>\n",
       "      <td>2017.0</td>\n",
       "      <td>2019.0</td>\n",
       "      <td>2020.0</td>\n",
       "      <td>24.0</td>\n",
       "    </tr>\n",
       "    <tr>\n",
       "      <th>price</th>\n",
       "      <td>10781.0</td>\n",
       "      <td>22733.408867</td>\n",
       "      <td>11415.528189</td>\n",
       "      <td>1200.0</td>\n",
       "      <td>14950.0</td>\n",
       "      <td>20462.0</td>\n",
       "      <td>27940.0</td>\n",
       "      <td>123456.0</td>\n",
       "      <td>122256.0</td>\n",
       "    </tr>\n",
       "    <tr>\n",
       "      <th>mileage</th>\n",
       "      <td>10781.0</td>\n",
       "      <td>25496.986550</td>\n",
       "      <td>25143.192559</td>\n",
       "      <td>1.0</td>\n",
       "      <td>5529.0</td>\n",
       "      <td>18347.0</td>\n",
       "      <td>38206.0</td>\n",
       "      <td>214000.0</td>\n",
       "      <td>213999.0</td>\n",
       "    </tr>\n",
       "    <tr>\n",
       "      <th>tax</th>\n",
       "      <td>10781.0</td>\n",
       "      <td>131.702068</td>\n",
       "      <td>61.510755</td>\n",
       "      <td>0.0</td>\n",
       "      <td>135.0</td>\n",
       "      <td>145.0</td>\n",
       "      <td>145.0</td>\n",
       "      <td>580.0</td>\n",
       "      <td>580.0</td>\n",
       "    </tr>\n",
       "    <tr>\n",
       "      <th>mpg</th>\n",
       "      <td>10781.0</td>\n",
       "      <td>56.399035</td>\n",
       "      <td>31.336958</td>\n",
       "      <td>5.5</td>\n",
       "      <td>45.6</td>\n",
       "      <td>53.3</td>\n",
       "      <td>62.8</td>\n",
       "      <td>470.8</td>\n",
       "      <td>465.3</td>\n",
       "    </tr>\n",
       "    <tr>\n",
       "      <th>engineSize</th>\n",
       "      <td>10781.0</td>\n",
       "      <td>2.167767</td>\n",
       "      <td>0.552054</td>\n",
       "      <td>0.0</td>\n",
       "      <td>2.0</td>\n",
       "      <td>2.0</td>\n",
       "      <td>2.0</td>\n",
       "      <td>6.6</td>\n",
       "      <td>6.6</td>\n",
       "    </tr>\n",
       "  </tbody>\n",
       "</table>\n",
       "</div>"
      ],
      "text/plain": [
       "              count          mean           std     min      25%      50%  \\\n",
       "year        10781.0   2017.078935      2.349038  1996.0   2016.0   2017.0   \n",
       "price       10781.0  22733.408867  11415.528189  1200.0  14950.0  20462.0   \n",
       "mileage     10781.0  25496.986550  25143.192559     1.0   5529.0  18347.0   \n",
       "tax         10781.0    131.702068     61.510755     0.0    135.0    145.0   \n",
       "mpg         10781.0     56.399035     31.336958     5.5     45.6     53.3   \n",
       "engineSize  10781.0      2.167767      0.552054     0.0      2.0      2.0   \n",
       "\n",
       "                75%       max     range  \n",
       "year         2019.0    2020.0      24.0  \n",
       "price       27940.0  123456.0  122256.0  \n",
       "mileage     38206.0  214000.0  213999.0  \n",
       "tax           145.0     580.0     580.0  \n",
       "mpg            62.8     470.8     465.3  \n",
       "engineSize      2.0       6.6       6.6  "
      ]
     },
     "execution_count": 4,
     "metadata": {},
     "output_type": "execute_result"
    }
   ],
   "source": [
    "## making a numerical statistics dataframe so we add a range by subtracting the min \n",
    "## from the max\n",
    "\n",
    "stats = df.describe().T\n",
    "\n",
    "stats['range'] = stats['max'] - stats['min'] \n",
    "\n",
    "stats ## displaying our numerical statistics"
   ]
  },
  {
   "cell_type": "markdown",
   "metadata": {},
   "source": [
    "Now lets take a look at our data types for the columns and see if we have any null values that we will need to deal with in the prepare phase"
   ]
  },
  {
   "cell_type": "code",
   "execution_count": 5,
   "metadata": {},
   "outputs": [
    {
     "name": "stdout",
     "output_type": "stream",
     "text": [
      "<class 'pandas.core.frame.DataFrame'>\n",
      "Index: 10781 entries,  5 Series to  X1\n",
      "Data columns (total 8 columns):\n",
      " #   Column        Non-Null Count  Dtype  \n",
      "---  ------        --------------  -----  \n",
      " 0   year          10781 non-null  int64  \n",
      " 1   price         10781 non-null  int64  \n",
      " 2   transmission  10781 non-null  object \n",
      " 3   mileage       10781 non-null  int64  \n",
      " 4   fuelType      10781 non-null  object \n",
      " 5   tax           10781 non-null  int64  \n",
      " 6   mpg           10781 non-null  float64\n",
      " 7   engineSize    10781 non-null  float64\n",
      "dtypes: float64(2), int64(4), object(2)\n",
      "memory usage: 758.0+ KB\n"
     ]
    }
   ],
   "source": [
    "## looking at our columns and their data types\n",
    "\n",
    "df.info()"
   ]
  },
  {
   "cell_type": "markdown",
   "metadata": {},
   "source": [
    "Looks like we have correct datatypes for the numerical columns and we have 10781 entries and matching non-null values in all columns. \n",
    "\n",
    "Now lets look at value counts for the object columns."
   ]
  },
  {
   "cell_type": "code",
   "execution_count": 6,
   "metadata": {},
   "outputs": [
    {
     "name": "stdout",
     "output_type": "stream",
     "text": [
      "Value Counts for fuelType:\n",
      "\n",
      "Diesel      7027\n",
      "Petrol      3417\n",
      "Hybrid       298\n",
      "Other         36\n",
      "Electric       3\n",
      "Name: fuelType, dtype: int64\n",
      "--------------------\n",
      "Value Counts for transmission:\n",
      "\n",
      "Semi-Auto    4666\n",
      "Automatic    3588\n",
      "Manual       2527\n",
      "Name: transmission, dtype: int64\n",
      "--------------------\n"
     ]
    }
   ],
   "source": [
    "## looking at certain object value counts\n",
    "\n",
    "list = ['fuelType', 'transmission']\n",
    "\n",
    "for x in list:\n",
    "    print(f'Value Counts for {x}:\\n')\n",
    "    print(df[x].value_counts())\n",
    "    print('--------------------')"
   ]
  },
  {
   "cell_type": "markdown",
   "metadata": {},
   "source": [
    "Looks like we have some rare cases of electric bmws. Knowing the electric car bmw has to offer is the i8 (very expensive car) we may able to use this to help predict higher priced cars."
   ]
  },
  {
   "cell_type": "markdown",
   "metadata": {},
   "source": [
    "Now lets look at continuous variable distributions in our dataset."
   ]
  },
  {
   "cell_type": "code",
   "execution_count": 7,
   "metadata": {},
   "outputs": [
    {
     "name": "stdout",
     "output_type": "stream",
     "text": [
      "Distribution of year\n",
      "\n"
     ]
    },
    {
     "data": {
      "image/png": "[encoded data removed]",
      "text/plain": [
       "<Figure size 432x288 with 1 Axes>"
      ]
     },
     "metadata": {
      "needs_background": "light"
     },
     "output_type": "display_data"
    },
    {
     "name": "stdout",
     "output_type": "stream",
     "text": [
      "--------------------\n",
      "Distribution of price\n",
      "\n"
     ]
    },
    {
     "data": {
      "image/png": "[encoded data removed]",
      "text/plain": [
       "<Figure size 432x288 with 1 Axes>"
      ]
     },
     "metadata": {
      "needs_background": "light"
     },
     "output_type": "display_data"
    },
    {
     "name": "stdout",
     "output_type": "stream",
     "text": [
      "--------------------\n",
      "Distribution of mileage\n",
      "\n"
     ]
    },
    {
     "data": {
      "image/png": "[encoded data removed]",
      "text/plain": [
       "<Figure size 432x288 with 1 Axes>"
      ]
     },
     "metadata": {
      "needs_background": "light"
     },
     "output_type": "display_data"
    },
    {
     "name": "stdout",
     "output_type": "stream",
     "text": [
      "--------------------\n",
      "Distribution of tax\n",
      "\n"
     ]
    },
    {
     "data": {
      "image/png": "[encoded data removed]",
      "text/plain": [
       "<Figure size 432x288 with 1 Axes>"
      ]
     },
     "metadata": {
      "needs_background": "light"
     },
     "output_type": "display_data"
    },
    {
     "name": "stdout",
     "output_type": "stream",
     "text": [
      "--------------------\n",
      "Distribution of mpg\n",
      "\n"
     ]
    },
    {
     "data": {
      "image/png": "[encoded data removed]",
      "text/plain": [
       "<Figure size 432x288 with 1 Axes>"
      ]
     },
     "metadata": {
      "needs_background": "light"
     },
     "output_type": "display_data"
    },
    {
     "name": "stdout",
     "output_type": "stream",
     "text": [
      "--------------------\n",
      "Distribution of engineSize\n",
      "\n"
     ]
    },
    {
     "data": {
      "image/png": "[encoded data removed]",
      "text/plain": [
       "<Figure size 432x288 with 1 Axes>"
      ]
     },
     "metadata": {
      "needs_background": "light"
     },
     "output_type": "display_data"
    },
    {
     "name": "stdout",
     "output_type": "stream",
     "text": [
      "--------------------\n"
     ]
    }
   ],
   "source": [
    "## looking at our continuous variable distributions\n",
    "\n",
    "stats = ['year', 'price', 'mileage', 'tax', 'mpg', 'engineSize']\n",
    "\n",
    "for x in stats:\n",
    "    print(f'Distribution of {x}\\n')\n",
    "    df[x].hist()\n",
    "    plt.show()\n",
    "    print('--------------------')"
   ]
  },
  {
   "cell_type": "markdown",
   "metadata": {},
   "source": [
    "#### Distribution Takeaways\n",
    "\n",
    "Year Manufactured:\n",
    " - Looks like the year of all the used BMWs ranges from 2000 to 2020 and the distribution is skewed to the right.\n",
    " \n",
    "Price of Vehicle:\n",
    " - Looks the have a large range from 3,000 to 80,000 and the distributions is close to normal but has a tail to the left near the higher prices.\n",
    " \n",
    "Mileage of Vehicle:\n",
    " - The mileage of the vehicles is skewed to the left and not normally distributed\n",
    " \n",
    "Tax on Vehicle:\n",
    " - The tax of the vehicles is relatively normal but has some gaps in the histogram\n",
    " \n",
    "Miles Per Gallon of Vehicle:\n",
    " - The miles per gallon of the vehicles seem to have an outlier around 400 those could be the electric cars filling that value at their miles per charge since they don't use gasoline.\n",
    "\n",
    "Engine Size of Vehicle:\n",
    " - The engine size of the vehicles is normally distributed and is measured in Liters so the range is 0 to 4.8 it looks like.\n"
   ]
  },
  {
   "cell_type": "markdown",
   "metadata": {},
   "source": [
    "### Prepare \n",
    "\n",
    "In repare we will look at null values and make sure there are no duplicate observations as well as do things like check for outliers and feature engineering to find the most impactful features for predicting the prices of used BMWs in the dataset."
   ]
  },
  {
   "cell_type": "code",
   "execution_count": 8,
   "metadata": {},
   "outputs": [],
   "source": [
    "def split_data(df):\n",
    "    '''\n",
    "    This function is designed to split out data for modeling into train, validate, and test \n",
    "    dataframes.\n",
    "    \n",
    "    It will also perform quality assurance checks on each dataframe to make sure the target \n",
    "    variable was correctcly stratified into each dataframe.\n",
    "    '''\n",
    "    \n",
    "    ## splitting the data stratifying for out target variable is_fraud\n",
    "    train_validate, test = train_test_split(df, test_size=.2, \n",
    "                                            random_state=123)\n",
    "    train, validate = train_test_split(train_validate, test_size=.3, \n",
    "                                       random_state=123)\n",
    "    \n",
    "    print('Making Sure Our Shapes Look Good')\n",
    "    print(f'Train: {train.shape}, Validate: {validate.shape}, Test: {test.shape}')\n",
    "    \n",
    "    return train, validate, test"
   ]
  },
  {
   "cell_type": "code",
   "execution_count": 9,
   "metadata": {},
   "outputs": [
    {
     "data": {
      "text/plain": [
       "120"
      ]
     },
     "execution_count": 9,
     "metadata": {},
     "output_type": "execute_result"
    }
   ],
   "source": [
    "## we already checked for null values by doing the df.info() and we saw there\n",
    "## were none so will now check for duplicate observations\n",
    "\n",
    "df.duplicated().sum() "
   ]
  },
  {
   "cell_type": "markdown",
   "metadata": {},
   "source": [
    "Looks like we have 120 duplicate observations that isn't too many compared to the 10 thousand observations in the dataframe."
   ]
  },
  {
   "cell_type": "code",
   "execution_count": 10,
   "metadata": {},
   "outputs": [],
   "source": [
    "## dropping the duplicates \n",
    "\n",
    "df = df.drop_duplicates()"
   ]
  },
  {
   "cell_type": "code",
   "execution_count": 11,
   "metadata": {},
   "outputs": [
    {
     "data": {
      "text/plain": [
       "0"
      ]
     },
     "execution_count": 11,
     "metadata": {},
     "output_type": "execute_result"
    }
   ],
   "source": [
    "## quality assurance check: making sure the duplicates have been dropped\n",
    "\n",
    "df.duplicated().sum()"
   ]
  },
  {
   "cell_type": "markdown",
   "metadata": {},
   "source": [
    "From previous experience string valued columns that have trailing and leading whitespace will cause problems when feature engineering, and exploring. So we will take care of this first before making new features for the dataset."
   ]
  },
  {
   "cell_type": "code",
   "execution_count": 12,
   "metadata": {},
   "outputs": [],
   "source": [
    "df = df.reset_index() ## we also are going to reset the index so that the model information\n",
    "## is a useable column"
   ]
  },
  {
   "cell_type": "code",
   "execution_count": 13,
   "metadata": {},
   "outputs": [],
   "source": [
    "## stripping trailing and leading whitespace from string valued columns just in case\n",
    "\n",
    "df.model = df.model.str.strip()\n",
    "df.fuelType = df.fuelType.str.strip()\n",
    "df.transmission = df.transmission.str.strip()"
   ]
  },
  {
   "cell_type": "code",
   "execution_count": 14,
   "metadata": {},
   "outputs": [
    {
     "data": {
      "text/html": [
       "<div>\n",
       "<style scoped>\n",
       "    .dataframe tbody tr th:only-of-type {\n",
       "        vertical-align: middle;\n",
       "    }\n",
       "\n",
       "    .dataframe tbody tr th {\n",
       "        vertical-align: top;\n",
       "    }\n",
       "\n",
       "    .dataframe thead th {\n",
       "        text-align: right;\n",
       "    }\n",
       "</style>\n",
       "<table border=\"1\" class=\"dataframe\">\n",
       "  <thead>\n",
       "    <tr style=\"text-align: right;\">\n",
       "      <th></th>\n",
       "      <th>model</th>\n",
       "      <th>year</th>\n",
       "      <th>price</th>\n",
       "      <th>transmission</th>\n",
       "      <th>mileage</th>\n",
       "      <th>fuelType</th>\n",
       "      <th>tax</th>\n",
       "      <th>mpg</th>\n",
       "      <th>engineSize</th>\n",
       "    </tr>\n",
       "  </thead>\n",
       "  <tbody>\n",
       "    <tr>\n",
       "      <th>0</th>\n",
       "      <td>5 Series</td>\n",
       "      <td>2014</td>\n",
       "      <td>11200</td>\n",
       "      <td>Automatic</td>\n",
       "      <td>67068</td>\n",
       "      <td>Diesel</td>\n",
       "      <td>125</td>\n",
       "      <td>57.6</td>\n",
       "      <td>2.0</td>\n",
       "    </tr>\n",
       "    <tr>\n",
       "      <th>1</th>\n",
       "      <td>6 Series</td>\n",
       "      <td>2018</td>\n",
       "      <td>27000</td>\n",
       "      <td>Automatic</td>\n",
       "      <td>14827</td>\n",
       "      <td>Petrol</td>\n",
       "      <td>145</td>\n",
       "      <td>42.8</td>\n",
       "      <td>2.0</td>\n",
       "    </tr>\n",
       "    <tr>\n",
       "      <th>2</th>\n",
       "      <td>5 Series</td>\n",
       "      <td>2016</td>\n",
       "      <td>16000</td>\n",
       "      <td>Automatic</td>\n",
       "      <td>62794</td>\n",
       "      <td>Diesel</td>\n",
       "      <td>160</td>\n",
       "      <td>51.4</td>\n",
       "      <td>3.0</td>\n",
       "    </tr>\n",
       "    <tr>\n",
       "      <th>3</th>\n",
       "      <td>1 Series</td>\n",
       "      <td>2017</td>\n",
       "      <td>12750</td>\n",
       "      <td>Automatic</td>\n",
       "      <td>26676</td>\n",
       "      <td>Diesel</td>\n",
       "      <td>145</td>\n",
       "      <td>72.4</td>\n",
       "      <td>1.5</td>\n",
       "    </tr>\n",
       "    <tr>\n",
       "      <th>4</th>\n",
       "      <td>7 Series</td>\n",
       "      <td>2014</td>\n",
       "      <td>14500</td>\n",
       "      <td>Automatic</td>\n",
       "      <td>39554</td>\n",
       "      <td>Diesel</td>\n",
       "      <td>160</td>\n",
       "      <td>50.4</td>\n",
       "      <td>3.0</td>\n",
       "    </tr>\n",
       "  </tbody>\n",
       "</table>\n",
       "</div>"
      ],
      "text/plain": [
       "      model  year  price transmission  mileage fuelType  tax   mpg  engineSize\n",
       "0  5 Series  2014  11200    Automatic    67068   Diesel  125  57.6         2.0\n",
       "1  6 Series  2018  27000    Automatic    14827   Petrol  145  42.8         2.0\n",
       "2  5 Series  2016  16000    Automatic    62794   Diesel  160  51.4         3.0\n",
       "3  1 Series  2017  12750    Automatic    26676   Diesel  145  72.4         1.5\n",
       "4  7 Series  2014  14500    Automatic    39554   Diesel  160  50.4         3.0"
      ]
     },
     "execution_count": 14,
     "metadata": {},
     "output_type": "execute_result"
    }
   ],
   "source": [
    "## looking at our dataframe \n",
    "\n",
    "df.head()"
   ]
  },
  {
   "cell_type": "markdown",
   "metadata": {},
   "source": [
    "#### Feature Engineering"
   ]
  },
  {
   "cell_type": "code",
   "execution_count": 15,
   "metadata": {},
   "outputs": [
    {
     "data": {
      "text/plain": [
       "Diesel      6985\n",
       "Petrol      3340\n",
       "Hybrid       297\n",
       "Other         36\n",
       "Electric       3\n",
       "Name: fuelType, dtype: int64"
      ]
     },
     "execution_count": 15,
     "metadata": {},
     "output_type": "execute_result"
    }
   ],
   "source": [
    "## Looking at the fuel type values so I can one hot encode different columns for each fuel\n",
    "## type\n",
    "\n",
    "df.fuelType.value_counts()"
   ]
  },
  {
   "cell_type": "code",
   "execution_count": 21,
   "metadata": {},
   "outputs": [],
   "source": [
    "## using one hot encoding to get dummy categorical columns for diesel, electric, and hybrid\n",
    "## fuel types\n",
    "\n",
    "df['is_diesel'] = np.where(df.fuelType == 'Diesel', 1, 0)\n",
    "df['is_electric'] = np.where(df.fuelType == 'Electric', 1, 0)\n",
    "df['is_hybrid'] = np.where(df.fuelType == 'Hybrid', 1, 0)\n"
   ]
  },
  {
   "cell_type": "markdown",
   "metadata": {},
   "source": [
    "Now that we have made our categorical columns let's check their values to make sure they match the value counts above and were done correctly."
   ]
  },
  {
   "cell_type": "code",
   "execution_count": 24,
   "metadata": {},
   "outputs": [
    {
     "name": "stdout",
     "output_type": "stream",
     "text": [
      "Value Counts for is_diesel:\n",
      "\n",
      "1    6985\n",
      "0    3676\n",
      "Name: is_diesel, dtype: int64\n",
      "--------------------\n",
      "Value Counts for is_electric:\n",
      "\n",
      "0    10658\n",
      "1        3\n",
      "Name: is_electric, dtype: int64\n",
      "--------------------\n",
      "Value Counts for is_hybrid:\n",
      "\n",
      "0    10364\n",
      "1      297\n",
      "Name: is_hybrid, dtype: int64\n",
      "--------------------\n"
     ]
    }
   ],
   "source": [
    "## looking at certain object value counts\n",
    "\n",
    "list = ['is_diesel', 'is_electric', 'is_hybrid']\n",
    "\n",
    "for x in list:\n",
    "    print(f'Value Counts for {x}:\\n')\n",
    "    print(df[x].value_counts())\n",
    "    print('--------------------')"
   ]
  },
  {
   "cell_type": "markdown",
   "metadata": {},
   "source": [
    "These all look correct according to the original value counts of the fuel type column"
   ]
  },
  {
   "cell_type": "code",
   "execution_count": 22,
   "metadata": {},
   "outputs": [
    {
     "data": {
      "text/plain": [
       "Semi-Auto    4634\n",
       "Automatic    3542\n",
       "Manual       2485\n",
       "Name: transmission, dtype: int64"
      ]
     },
     "execution_count": 22,
     "metadata": {},
     "output_type": "execute_result"
    }
   ],
   "source": [
    "df.transmission.value_counts()"
   ]
  },
  {
   "cell_type": "code",
   "execution_count": 23,
   "metadata": {},
   "outputs": [],
   "source": [
    "## using one hot encoding to get dummy categorical columns for manual, automatic, \n",
    "## and semi automatic transmission types\n",
    "\n",
    "\n",
    "df['is_manual'] = np.where(df.transmission == 'Manual', 1, 0)\n",
    "df['is_semiauto'] = np.where(df.transmission == 'Semi-Auto', 1, 0)\n",
    "df['is_automatic'] = np.where(df.transmission == 'Automatic', 1, 0)"
   ]
  },
  {
   "cell_type": "markdown",
   "metadata": {},
   "source": [
    "Now that we have made our categorical columns let's check their values to make sure they match the value counts above and were done correctly."
   ]
  },
  {
   "cell_type": "code",
   "execution_count": 25,
   "metadata": {},
   "outputs": [
    {
     "name": "stdout",
     "output_type": "stream",
     "text": [
      "Value Counts for is_manual:\n",
      "\n",
      "0    8176\n",
      "1    2485\n",
      "Name: is_manual, dtype: int64\n",
      "--------------------\n",
      "Value Counts for is_semiauto:\n",
      "\n",
      "0    6027\n",
      "1    4634\n",
      "Name: is_semiauto, dtype: int64\n",
      "--------------------\n",
      "Value Counts for is_automatic:\n",
      "\n",
      "0    7119\n",
      "1    3542\n",
      "Name: is_automatic, dtype: int64\n",
      "--------------------\n"
     ]
    }
   ],
   "source": [
    "## looking at certain object value counts\n",
    "\n",
    "list = ['is_manual', 'is_semiauto', 'is_automatic']\n",
    "\n",
    "for x in list:\n",
    "    print(f'Value Counts for {x}:\\n')\n",
    "    print(df[x].value_counts())\n",
    "    print('--------------------')"
   ]
  },
  {
   "cell_type": "markdown",
   "metadata": {},
   "source": [
    "These all correspond to the original value counts for the transmission type and look correct lets continue with splitting our data."
   ]
  },
  {
   "cell_type": "code",
   "execution_count": 26,
   "metadata": {},
   "outputs": [
    {
     "name": "stdout",
     "output_type": "stream",
     "text": [
      "Making Sure Our Shapes Look Good\n",
      "Train: (5969, 15), Validate: (2559, 15), Test: (2133, 15)\n"
     ]
    }
   ],
   "source": [
    "## using our data split function to split into train validate, & test dataframes\n",
    "\n",
    "train, validate, test = split_data(df)"
   ]
  },
  {
   "cell_type": "markdown",
   "metadata": {},
   "source": [
    "After splitting the data the datashapes look consistent "
   ]
  },
  {
   "cell_type": "code",
   "execution_count": 27,
   "metadata": {},
   "outputs": [
    {
     "data": {
      "text/html": [
       "<div>\n",
       "<style scoped>\n",
       "    .dataframe tbody tr th:only-of-type {\n",
       "        vertical-align: middle;\n",
       "    }\n",
       "\n",
       "    .dataframe tbody tr th {\n",
       "        vertical-align: top;\n",
       "    }\n",
       "\n",
       "    .dataframe thead th {\n",
       "        text-align: right;\n",
       "    }\n",
       "</style>\n",
       "<table border=\"1\" class=\"dataframe\">\n",
       "  <thead>\n",
       "    <tr style=\"text-align: right;\">\n",
       "      <th></th>\n",
       "      <th>model</th>\n",
       "      <th>year</th>\n",
       "      <th>price</th>\n",
       "      <th>transmission</th>\n",
       "      <th>mileage</th>\n",
       "      <th>fuelType</th>\n",
       "      <th>tax</th>\n",
       "      <th>mpg</th>\n",
       "      <th>engineSize</th>\n",
       "      <th>is_diesel</th>\n",
       "      <th>is_electric</th>\n",
       "      <th>is_hybrid</th>\n",
       "      <th>is_manual</th>\n",
       "      <th>is_semiauto</th>\n",
       "      <th>is_automatic</th>\n",
       "    </tr>\n",
       "  </thead>\n",
       "  <tbody>\n",
       "    <tr>\n",
       "      <th>6239</th>\n",
       "      <td>1 Series</td>\n",
       "      <td>2017</td>\n",
       "      <td>16722</td>\n",
       "      <td>Semi-Auto</td>\n",
       "      <td>9063</td>\n",
       "      <td>Petrol</td>\n",
       "      <td>145</td>\n",
       "      <td>55.5</td>\n",
       "      <td>1.5</td>\n",
       "      <td>0</td>\n",
       "      <td>0</td>\n",
       "      <td>0</td>\n",
       "      <td>0</td>\n",
       "      <td>1</td>\n",
       "      <td>0</td>\n",
       "    </tr>\n",
       "    <tr>\n",
       "      <th>1575</th>\n",
       "      <td>X6</td>\n",
       "      <td>2018</td>\n",
       "      <td>37900</td>\n",
       "      <td>Semi-Auto</td>\n",
       "      <td>11500</td>\n",
       "      <td>Diesel</td>\n",
       "      <td>150</td>\n",
       "      <td>40.9</td>\n",
       "      <td>3.0</td>\n",
       "      <td>1</td>\n",
       "      <td>0</td>\n",
       "      <td>0</td>\n",
       "      <td>0</td>\n",
       "      <td>1</td>\n",
       "      <td>0</td>\n",
       "    </tr>\n",
       "    <tr>\n",
       "      <th>9531</th>\n",
       "      <td>X3</td>\n",
       "      <td>2015</td>\n",
       "      <td>13999</td>\n",
       "      <td>Manual</td>\n",
       "      <td>51715</td>\n",
       "      <td>Diesel</td>\n",
       "      <td>160</td>\n",
       "      <td>52.3</td>\n",
       "      <td>2.0</td>\n",
       "      <td>1</td>\n",
       "      <td>0</td>\n",
       "      <td>0</td>\n",
       "      <td>1</td>\n",
       "      <td>0</td>\n",
       "      <td>0</td>\n",
       "    </tr>\n",
       "    <tr>\n",
       "      <th>7508</th>\n",
       "      <td>1 Series</td>\n",
       "      <td>2017</td>\n",
       "      <td>15490</td>\n",
       "      <td>Automatic</td>\n",
       "      <td>26000</td>\n",
       "      <td>Diesel</td>\n",
       "      <td>125</td>\n",
       "      <td>61.4</td>\n",
       "      <td>2.0</td>\n",
       "      <td>1</td>\n",
       "      <td>0</td>\n",
       "      <td>0</td>\n",
       "      <td>0</td>\n",
       "      <td>0</td>\n",
       "      <td>1</td>\n",
       "    </tr>\n",
       "    <tr>\n",
       "      <th>9816</th>\n",
       "      <td>1 Series</td>\n",
       "      <td>2016</td>\n",
       "      <td>8999</td>\n",
       "      <td>Manual</td>\n",
       "      <td>94300</td>\n",
       "      <td>Diesel</td>\n",
       "      <td>0</td>\n",
       "      <td>83.1</td>\n",
       "      <td>1.5</td>\n",
       "      <td>1</td>\n",
       "      <td>0</td>\n",
       "      <td>0</td>\n",
       "      <td>1</td>\n",
       "      <td>0</td>\n",
       "      <td>0</td>\n",
       "    </tr>\n",
       "  </tbody>\n",
       "</table>\n",
       "</div>"
      ],
      "text/plain": [
       "         model  year  price transmission  mileage fuelType  tax   mpg  \\\n",
       "6239  1 Series  2017  16722    Semi-Auto     9063   Petrol  145  55.5   \n",
       "1575        X6  2018  37900    Semi-Auto    11500   Diesel  150  40.9   \n",
       "9531        X3  2015  13999       Manual    51715   Diesel  160  52.3   \n",
       "7508  1 Series  2017  15490    Automatic    26000   Diesel  125  61.4   \n",
       "9816  1 Series  2016   8999       Manual    94300   Diesel    0  83.1   \n",
       "\n",
       "      engineSize  is_diesel  is_electric  is_hybrid  is_manual  is_semiauto  \\\n",
       "6239         1.5          0            0          0          0            1   \n",
       "1575         3.0          1            0          0          0            1   \n",
       "9531         2.0          1            0          0          1            0   \n",
       "7508         2.0          1            0          0          0            0   \n",
       "9816         1.5          1            0          0          1            0   \n",
       "\n",
       "      is_automatic  \n",
       "6239             0  \n",
       "1575             0  \n",
       "9531             0  \n",
       "7508             1  \n",
       "9816             0  "
      ]
     },
     "execution_count": 27,
     "metadata": {},
     "output_type": "execute_result"
    }
   ],
   "source": [
    "train.head() ## previewing our train df"
   ]
  },
  {
   "cell_type": "code",
   "execution_count": null,
   "metadata": {},
   "outputs": [],
   "source": []
  }
 ],
 "metadata": {
  "kernelspec": {
   "display_name": "Python 3",
   "language": "python",
   "name": "python3"
  },
  "language_info": {
   "codemirror_mode": {
    "name": "ipython",
    "version": 3
   },
   "file_extension": ".py",
   "mimetype": "text/x-python",
   "name": "python",
   "nbconvert_exporter": "python",
   "pygments_lexer": "ipython3",
   "version": "3.8.5"
  }
 },
 "nbformat": 4,
 "nbformat_minor": 4
}
